{
 "cells": [
  {
   "cell_type": "markdown",
   "metadata": {
    "application/vnd.databricks.v1+cell": {
     "cellMetadata": {},
     "inputWidgets": {},
     "nuid": "2cc04c01-3b17-4743-8d98-a2d3e9f8022f",
     "showTitle": false,
     "tableResultSettingsMap": {},
     "title": ""
    }
   },
   "source": [
    "%md\n",
    "### 5. Análise de Marketing\n",
    "\n",
    "**a. Análise de Conversão de Vendas:**  \n",
    "Estudar a taxa de conversão de vendas com base em diferentes fontes de tráfego (orgânico, pago, social, etc.).\n",
    "\n"
   ]
  },
  {
   "cell_type": "markdown",
   "metadata": {
    "application/vnd.databricks.v1+cell": {
     "cellMetadata": {},
     "inputWidgets": {},
     "nuid": "830d231c-5ca5-4a23-a150-ed646b0fa874",
     "showTitle": false,
     "tableResultSettingsMap": {},
     "title": ""
    }
   },
   "source": [
    "### Configuração do Ambiente e Carga de Dados\n",
    "\n",
    "A primeira etapa consiste na preparação do ambiente de análise. O código a seguir importa as bibliotecas necessárias — **PySpark** para manipulação de dados e **Matplotlib/Seaborn** para visualização — e carrega os datasets do Unity Catalog para DataFrames Spark."
   ]
  },
  {
   "cell_type": "code",
   "execution_count": 0,
   "metadata": {
    "application/vnd.databricks.v1+cell": {
     "cellMetadata": {
      "byteLimit": 2048000,
      "rowLimit": 10000
     },
     "inputWidgets": {},
     "nuid": "adc39671-e5ef-4999-8dc4-3927cdcc72d4",
     "showTitle": false,
     "tableResultSettingsMap": {},
     "title": ""
    }
   },
   "outputs": [
    {
     "output_type": "stream",
     "name": "stdout",
     "output_type": "stream",
     "text": [
      "Todos os datasets foram carregados com sucesso a partir do Unity Catalog.\n"
     ]
    }
   ],
   "source": [
    "# Importa funções essenciais do PySpark\n",
    "from pyspark.sql.functions import col, to_timestamp, datediff, avg, when, round, sum as _sum, countDistinct, year, month, quarter, count\n",
    "from pyspark.sql import functions as F\n",
    "from pyspark.sql import Row # Necessário para criar DataFrames a partir de listas de Rows\n",
    "\n",
    "# Importa as bibliotecas de visualização\n",
    "import matplotlib.pyplot as plt\n",
    "import seaborn as sns\n",
    "import matplotlib.colors \n",
    "\n",
    "# Carrega cada tabela diretamente do seu catálogo e schema\n",
    "# Certifique-se de que estas tabelas estão acessíveis no seu ambiente Databricks\n",
    "customers_df = spark.table(\"workspace.default.olist_customers\")\n",
    "orders_df = spark.table(\"workspace.default.olist_orders\")\n",
    "order_items_df = spark.table(\"workspace.default.olist_order_items\")\n",
    "payments_df = spark.table(\"workspace.default.olist_order_payments\")\n",
    "reviews_df = spark.table(\"workspace.default.olist_order_reviews\")\n",
    "products_df = spark.table(\"workspace.default.olist_products\")\n",
    "sellers_df = spark.table(\"workspace.default.olist_sellers\")\n",
    "geolocation_df = spark.table(\"workspace.default.olist_geolocation\")\n",
    "\n",
    "print(\"Todos os datasets foram carregados com sucesso a partir do Unity Catalog.\")"
   ]
  },
  {
   "cell_type": "markdown",
   "metadata": {
    "application/vnd.databricks.v1+cell": {
     "cellMetadata": {},
     "inputWidgets": {},
     "nuid": "f259748f-d3f0-44d5-9812-1722f6f3b18f",
     "showTitle": false,
     "tableResultSettingsMap": {},
     "title": ""
    }
   },
   "source": [
    "### Etapa 2: União e Filtragem Inicial dos DataFrames\n",
    "\n",
    "Nesta fase, os DataFrames de **clientes** (`customers_df`), **pedidos** (`orders_df`) e **pagamentos** (`payments_df`) são unidos.  \n",
    "A união é realizada para consolidar informações cruciais sobre as transações.\n",
    "\n",
    "Adicionalmente:\n",
    "- As colunas de data são convertidas para o tipo `timestamp`, permitindo operações temporais.\n",
    "- Os dados são **filtrados** para incluir apenas os pedidos com status `\"delivered\"` (entregues),  \n",
    "  criando um subconjunto focado na **análise de conversão**.\n"
   ]
  },
  {
   "cell_type": "code",
   "execution_count": 0,
   "metadata": {
    "application/vnd.databricks.v1+cell": {
     "cellMetadata": {
      "byteLimit": 2048000,
      "rowLimit": 10000
     },
     "inputWidgets": {},
     "nuid": "a9c478d1-e798-4f86-ad7d-28fd07a3f99e",
     "showTitle": false,
     "tableResultSettingsMap": {},
     "title": ""
    }
   },
   "outputs": [
    {
     "output_type": "stream",
     "name": "stdout",
     "output_type": "stream",
     "text": [
      "DataFrames unidos e filtrados para pedidos entregues com sucesso.\n"
     ]
    },
    {
     "output_type": "display_data",
     "data": {
      "text/html": [
       "<style scoped>\n",
       "  .table-result-container {\n",
       "    max-height: 300px;\n",
       "    overflow: auto;\n",
       "  }\n",
       "  table, th, td {\n",
       "    border: 1px solid black;\n",
       "    border-collapse: collapse;\n",
       "  }\n",
       "  th, td {\n",
       "    padding: 5px;\n",
       "  }\n",
       "  th {\n",
       "    text-align: left;\n",
       "  }\n",
       "</style><div class='table-result-container'><table class='table-result'><thead style='background-color: white'><tr><th>order_id</th><th>customer_id</th><th>order_status</th><th>order_purchase_timestamp</th><th>order_approved_at</th><th>order_delivered_carrier_date</th><th>order_delivered_customer_date</th><th>order_estimated_delivery_date</th><th>customer_unique_id</th><th>customer_zip_code_prefix</th><th>customer_city</th><th>customer_state</th><th>payment_sequential</th><th>payment_type</th><th>payment_installments</th><th>payment_value</th></tr></thead><tbody><tr><td>00e7ee1b050b8499577073aeb2a297a1</td><td>06b8999e2fba1a1fbc88172c00ba8bc7</td><td>delivered</td><td>2017-05-16T15:05:35.000Z</td><td>2017-05-16T15:22:12.000Z</td><td>2017-05-23T10:47:57.000Z</td><td>2017-05-25T10:35:35.000Z</td><td>2017-06-05T00:00:00.000Z</td><td>861eff4711a542e4b93843c6dd7febb0</td><td>14409</td><td>franca</td><td>SP</td><td>1</td><td>credit_card</td><td>2</td><td>146.87</td></tr><tr><td>29150127e6685892b6eab3eec79f59c7</td><td>18955e83d337fd6b2def6b18a428ac77</td><td>delivered</td><td>2018-01-12T20:48:24.000Z</td><td>2018-01-12T20:58:32.000Z</td><td>2018-01-15T17:14:59.000Z</td><td>2018-01-29T12:41:19.000Z</td><td>2018-02-06T00:00:00.000Z</td><td>290c77bc529b7ac935b93aa66c333dc3</td><td>9790</td><td>sao bernardo do campo</td><td>SP</td><td>1</td><td>credit_card</td><td>8</td><td>335.48</td></tr><tr><td>b2059ed67ce144a36e2aa97d2c9e9ad2</td><td>4e7b3e00288586ebd08712fdd0374a03</td><td>delivered</td><td>2018-05-19T16:07:45.000Z</td><td>2018-05-20T16:19:10.000Z</td><td>2018-06-11T14:31:00.000Z</td><td>2018-06-14T17:58:51.000Z</td><td>2018-06-13T00:00:00.000Z</td><td>060e732b5b29e8181a18229c7b0b2b5e</td><td>1151</td><td>sao paulo</td><td>SP</td><td>1</td><td>credit_card</td><td>7</td><td>157.73</td></tr><tr><td>951670f92359f4fe4a63112aa7306eba</td><td>b2b6027bc5c5109e529d4dc6358b12c3</td><td>delivered</td><td>2018-03-13T16:06:38.000Z</td><td>2018-03-13T17:29:19.000Z</td><td>2018-03-27T23:22:42.000Z</td><td>2018-03-28T16:04:25.000Z</td><td>2018-04-10T00:00:00.000Z</td><td>259dac757896d24d7702b9acbbff3f3c</td><td>8775</td><td>mogi das cruzes</td><td>SP</td><td>1</td><td>credit_card</td><td>1</td><td>173.3</td></tr><tr><td>6b7d50bd145f6fc7f33cebabd7e49d0f</td><td>4f2d8ab171c80ec8364f7c12e35b23ad</td><td>delivered</td><td>2018-07-29T09:51:30.000Z</td><td>2018-07-29T10:10:09.000Z</td><td>2018-07-30T15:16:00.000Z</td><td>2018-08-09T20:55:48.000Z</td><td>2018-08-15T00:00:00.000Z</td><td>345ecd01c38d18a9036ed96c73b8d066</td><td>13056</td><td>campinas</td><td>SP</td><td>1</td><td>credit_card</td><td>8</td><td>252.25</td></tr></tbody></table></div>"
      ]
     },
     "metadata": {
      "application/vnd.databricks.v1+output": {
       "addedWidgets": {},
       "aggData": [],
       "aggError": "",
       "aggOverflow": false,
       "aggSchema": [],
       "aggSeriesLimitReached": false,
       "aggType": "",
       "arguments": {},
       "columnCustomDisplayInfos": {},
       "data": [
        [
         "00e7ee1b050b8499577073aeb2a297a1",
         "06b8999e2fba1a1fbc88172c00ba8bc7",
         "delivered",
         "2017-05-16T15:05:35.000Z",
         "2017-05-16T15:22:12.000Z",
         "2017-05-23T10:47:57.000Z",
         "2017-05-25T10:35:35.000Z",
         "2017-06-05T00:00:00.000Z",
         "861eff4711a542e4b93843c6dd7febb0",
         14409,
         "franca",
         "SP",
         1,
         "credit_card",
         2,
         146.87
        ],
        [
         "29150127e6685892b6eab3eec79f59c7",
         "18955e83d337fd6b2def6b18a428ac77",
         "delivered",
         "2018-01-12T20:48:24.000Z",
         "2018-01-12T20:58:32.000Z",
         "2018-01-15T17:14:59.000Z",
         "2018-01-29T12:41:19.000Z",
         "2018-02-06T00:00:00.000Z",
         "290c77bc529b7ac935b93aa66c333dc3",
         9790,
         "sao bernardo do campo",
         "SP",
         1,
         "credit_card",
         8,
         335.48
        ],
        [
         "b2059ed67ce144a36e2aa97d2c9e9ad2",
         "4e7b3e00288586ebd08712fdd0374a03",
         "delivered",
         "2018-05-19T16:07:45.000Z",
         "2018-05-20T16:19:10.000Z",
         "2018-06-11T14:31:00.000Z",
         "2018-06-14T17:58:51.000Z",
         "2018-06-13T00:00:00.000Z",
         "060e732b5b29e8181a18229c7b0b2b5e",
         1151,
         "sao paulo",
         "SP",
         1,
         "credit_card",
         7,
         157.73
        ],
        [
         "951670f92359f4fe4a63112aa7306eba",
         "b2b6027bc5c5109e529d4dc6358b12c3",
         "delivered",
         "2018-03-13T16:06:38.000Z",
         "2018-03-13T17:29:19.000Z",
         "2018-03-27T23:22:42.000Z",
         "2018-03-28T16:04:25.000Z",
         "2018-04-10T00:00:00.000Z",
         "259dac757896d24d7702b9acbbff3f3c",
         8775,
         "mogi das cruzes",
         "SP",
         1,
         "credit_card",
         1,
         173.3
        ],
        [
         "6b7d50bd145f6fc7f33cebabd7e49d0f",
         "4f2d8ab171c80ec8364f7c12e35b23ad",
         "delivered",
         "2018-07-29T09:51:30.000Z",
         "2018-07-29T10:10:09.000Z",
         "2018-07-30T15:16:00.000Z",
         "2018-08-09T20:55:48.000Z",
         "2018-08-15T00:00:00.000Z",
         "345ecd01c38d18a9036ed96c73b8d066",
         13056,
         "campinas",
         "SP",
         1,
         "credit_card",
         8,
         252.25
        ]
       ],
       "datasetInfos": [],
       "dbfsResultPath": null,
       "isJsonSchema": true,
       "metadata": {},
       "overflow": false,
       "plotOptions": {
        "customPlotOptions": {},
        "displayType": "table",
        "pivotAggregation": null,
        "pivotColumns": null,
        "xColumns": null,
        "yColumns": null
       },
       "removedWidgets": [],
       "schema": [
        {
         "metadata": "{}",
         "name": "order_id",
         "type": "\"string\""
        },
        {
         "metadata": "{}",
         "name": "customer_id",
         "type": "\"string\""
        },
        {
         "metadata": "{}",
         "name": "order_status",
         "type": "\"string\""
        },
        {
         "metadata": "{}",
         "name": "order_purchase_timestamp",
         "type": "\"timestamp\""
        },
        {
         "metadata": "{}",
         "name": "order_approved_at",
         "type": "\"timestamp\""
        },
        {
         "metadata": "{}",
         "name": "order_delivered_carrier_date",
         "type": "\"timestamp\""
        },
        {
         "metadata": "{}",
         "name": "order_delivered_customer_date",
         "type": "\"timestamp\""
        },
        {
         "metadata": "{}",
         "name": "order_estimated_delivery_date",
         "type": "\"timestamp\""
        },
        {
         "metadata": "{}",
         "name": "customer_unique_id",
         "type": "\"string\""
        },
        {
         "metadata": "{}",
         "name": "customer_zip_code_prefix",
         "type": "\"long\""
        },
        {
         "metadata": "{}",
         "name": "customer_city",
         "type": "\"string\""
        },
        {
         "metadata": "{}",
         "name": "customer_state",
         "type": "\"string\""
        },
        {
         "metadata": "{}",
         "name": "payment_sequential",
         "type": "\"long\""
        },
        {
         "metadata": "{}",
         "name": "payment_type",
         "type": "\"string\""
        },
        {
         "metadata": "{}",
         "name": "payment_installments",
         "type": "\"long\""
        },
        {
         "metadata": "{}",
         "name": "payment_value",
         "type": "\"double\""
        }
       ],
       "type": "table"
      }
     },
     "output_type": "display_data"
    }
   ],
   "source": [
    "# Unir customers_df e orders_df\n",
    "df_merged = orders_df.join(customers_df, on=\"customer_id\", how=\"inner\")\n",
    "\n",
    "# Unir df_merged com payments_df\n",
    "df_merged = df_merged.join(payments_df, on=\"order_id\", how=\"inner\")\n",
    "\n",
    "# Filtrar para pedidos que foram realmente entregues para a análise de conversão\n",
    "# Convertendo order_purchase_timestamp para timestamp para garantir operações de data\n",
    "df_merged = df_merged.withColumn(\"order_purchase_timestamp\", to_timestamp(col(\"order_purchase_timestamp\")))\n",
    "df_merged = df_merged.withColumn(\"order_delivered_customer_date\", to_timestamp(col(\"order_delivered_customer_date\")))\n",
    "\n",
    "df_delivered = df_merged.filter(col(\"order_status\") == \"delivered\")\n",
    "\n",
    "print(\"DataFrames unidos e filtrados para pedidos entregues com sucesso.\")\n",
    "display(df_delivered.limit(5))"
   ]
  },
  {
   "cell_type": "markdown",
   "metadata": {
    "application/vnd.databricks.v1+cell": {
     "cellMetadata": {},
     "inputWidgets": {},
     "nuid": "0e41f4fa-a4e6-49b6-a228-1d66ab5a0267",
     "showTitle": false,
     "tableResultSettingsMap": {},
     "title": ""
    }
   },
   "source": [
    "### Etapa 3: Cálculo da Taxa de Conversão por Estado\n",
    "\n",
    "Esta etapa foca no **cálculo da taxa de conversão de vendas por estado do cliente**.\n",
    "\n",
    "Passos executados:\n",
    "\n",
    "- Contagem do **total de pedidos** e do **total de pedidos entregues** por estado.\n",
    "- União dos resultados obtidos.\n",
    "- Cálculo da **taxa de conversão**, definida como a porcentagem de pedidos entregues em relação ao total de pedidos.\n",
    "- O valor da taxa é **arredondado para duas casas decimais**.\n",
    "- Os dados finais são **ordenados de forma decrescente** com base no total de pedidos.\n"
   ]
  },
  {
   "cell_type": "code",
   "execution_count": 0,
   "metadata": {
    "application/vnd.databricks.v1+cell": {
     "cellMetadata": {
      "byteLimit": 2048000,
      "rowLimit": 10000
     },
     "inputWidgets": {},
     "nuid": "cf02fb3c-8587-4e66-8ec5-5bd092be59ab",
     "showTitle": false,
     "tableResultSettingsMap": {},
     "title": ""
    }
   },
   "outputs": [
    {
     "output_type": "stream",
     "name": "stdout",
     "output_type": "stream",
     "text": [
      "Taxa de conversão por estado calculada com sucesso.\n"
     ]
    },
    {
     "output_type": "display_data",
     "data": {
      "text/html": [
       "<style scoped>\n",
       "  .table-result-container {\n",
       "    max-height: 300px;\n",
       "    overflow: auto;\n",
       "  }\n",
       "  table, th, td {\n",
       "    border: 1px solid black;\n",
       "    border-collapse: collapse;\n",
       "  }\n",
       "  th, td {\n",
       "    padding: 5px;\n",
       "  }\n",
       "  th {\n",
       "    text-align: left;\n",
       "  }\n",
       "</style><div class='table-result-container'><table class='table-result'><thead style='background-color: white'><tr><th>customer_state</th><th>total_orders</th><th>delivered_orders</th><th>conversion_rate</th></tr></thead><tbody><tr><td>SP</td><td>41745</td><td>40500</td><td>97.02</td></tr><tr><td>RJ</td><td>12852</td><td>12350</td><td>96.09</td></tr><tr><td>MG</td><td>11635</td><td>11354</td><td>97.58</td></tr><tr><td>RS</td><td>5466</td><td>5345</td><td>97.79</td></tr><tr><td>PR</td><td>5045</td><td>4923</td><td>97.58</td></tr><tr><td>SC</td><td>3637</td><td>3546</td><td>97.5</td></tr><tr><td>BA</td><td>3380</td><td>3256</td><td>96.33</td></tr><tr><td>DF</td><td>2140</td><td>2080</td><td>97.2</td></tr><tr><td>ES</td><td>2033</td><td>1995</td><td>98.13</td></tr><tr><td>GO</td><td>2020</td><td>1957</td><td>96.88</td></tr><tr><td>PE</td><td>1652</td><td>1593</td><td>96.43</td></tr><tr><td>CE</td><td>1336</td><td>1279</td><td>95.73</td></tr><tr><td>PA</td><td>975</td><td>946</td><td>97.03</td></tr><tr><td>MT</td><td>907</td><td>886</td><td>97.68</td></tr><tr><td>MA</td><td>747</td><td>717</td><td>95.98</td></tr><tr><td>MS</td><td>715</td><td>701</td><td>98.04</td></tr><tr><td>PB</td><td>536</td><td>517</td><td>96.46</td></tr><tr><td>PI</td><td>495</td><td>476</td><td>96.16</td></tr><tr><td>RN</td><td>485</td><td>474</td><td>97.73</td></tr><tr><td>AL</td><td>413</td><td>397</td><td>96.13</td></tr><tr><td>SE</td><td>350</td><td>335</td><td>95.71</td></tr><tr><td>TO</td><td>280</td><td>274</td><td>97.86</td></tr><tr><td>RO</td><td>253</td><td>243</td><td>96.05</td></tr><tr><td>AM</td><td>148</td><td>145</td><td>97.97</td></tr><tr><td>AC</td><td>81</td><td>80</td><td>98.77</td></tr><tr><td>AP</td><td>68</td><td>67</td><td>98.53</td></tr><tr><td>RR</td><td>46</td><td>41</td><td>89.13</td></tr></tbody></table></div>"
      ]
     },
     "metadata": {
      "application/vnd.databricks.v1+output": {
       "addedWidgets": {},
       "aggData": [],
       "aggError": "",
       "aggOverflow": false,
       "aggSchema": [],
       "aggSeriesLimitReached": false,
       "aggType": "",
       "arguments": {},
       "columnCustomDisplayInfos": {},
       "data": [
        [
         "SP",
         41745,
         40500,
         97.02
        ],
        [
         "RJ",
         12852,
         12350,
         96.09
        ],
        [
         "MG",
         11635,
         11354,
         97.58
        ],
        [
         "RS",
         5466,
         5345,
         97.79
        ],
        [
         "PR",
         5045,
         4923,
         97.58
        ],
        [
         "SC",
         3637,
         3546,
         97.5
        ],
        [
         "BA",
         3380,
         3256,
         96.33
        ],
        [
         "DF",
         2140,
         2080,
         97.2
        ],
        [
         "ES",
         2033,
         1995,
         98.13
        ],
        [
         "GO",
         2020,
         1957,
         96.88
        ],
        [
         "PE",
         1652,
         1593,
         96.43
        ],
        [
         "CE",
         1336,
         1279,
         95.73
        ],
        [
         "PA",
         975,
         946,
         97.03
        ],
        [
         "MT",
         907,
         886,
         97.68
        ],
        [
         "MA",
         747,
         717,
         95.98
        ],
        [
         "MS",
         715,
         701,
         98.04
        ],
        [
         "PB",
         536,
         517,
         96.46
        ],
        [
         "PI",
         495,
         476,
         96.16
        ],
        [
         "RN",
         485,
         474,
         97.73
        ],
        [
         "AL",
         413,
         397,
         96.13
        ],
        [
         "SE",
         350,
         335,
         95.71
        ],
        [
         "TO",
         280,
         274,
         97.86
        ],
        [
         "RO",
         253,
         243,
         96.05
        ],
        [
         "AM",
         148,
         145,
         97.97
        ],
        [
         "AC",
         81,
         80,
         98.77
        ],
        [
         "AP",
         68,
         67,
         98.53
        ],
        [
         "RR",
         46,
         41,
         89.13
        ]
       ],
       "datasetInfos": [],
       "dbfsResultPath": null,
       "isJsonSchema": true,
       "metadata": {},
       "overflow": false,
       "plotOptions": {
        "customPlotOptions": {},
        "displayType": "table",
        "pivotAggregation": null,
        "pivotColumns": null,
        "xColumns": null,
        "yColumns": null
       },
       "removedWidgets": [],
       "schema": [
        {
         "metadata": "{}",
         "name": "customer_state",
         "type": "\"string\""
        },
        {
         "metadata": "{}",
         "name": "total_orders",
         "type": "\"long\""
        },
        {
         "metadata": "{}",
         "name": "delivered_orders",
         "type": "\"long\""
        },
        {
         "metadata": "{}",
         "name": "conversion_rate",
         "type": "\"double\""
        }
       ],
       "type": "table"
      }
     },
     "output_type": "display_data"
    }
   ],
   "source": [
    "# Contar o total de pedidos por estado\n",
    "total_orders_by_state = df_merged.groupBy(\"customer_state\").agg(\n",
    "    countDistinct(\"order_id\").alias(\"total_orders\")\n",
    ")\n",
    "\n",
    "# Contar o total de pedidos entregues por estado\n",
    "delivered_orders_by_state = df_delivered.groupBy(\"customer_state\").agg(\n",
    "    countDistinct(\"order_id\").alias(\"delivered_orders\")\n",
    ")\n",
    "\n",
    "# Juntar os DataFrames e calcular a taxa de conversão\n",
    "conversion_by_state = total_orders_by_state.join(delivered_orders_by_state, on=\"customer_state\", how=\"left\") \\\n",
    "    .fillna(0, subset=[\"delivered_orders\"]) \\\n",
    "    .withColumn(\"conversion_rate\", round((col(\"delivered_orders\") / col(\"total_orders\")) * 100, 2)) \\\n",
    "    .orderBy(col(\"total_orders\").desc())\n",
    "\n",
    "print(\"Taxa de conversão por estado calculada com sucesso.\")\n",
    "display(conversion_by_state)"
   ]
  },
  {
   "cell_type": "markdown",
   "metadata": {
    "application/vnd.databricks.v1+cell": {
     "cellMetadata": {},
     "inputWidgets": {},
     "nuid": "7dfd9c8a-e068-41db-81dd-6ee89081b412",
     "showTitle": false,
     "tableResultSettingsMap": {},
     "title": ""
    }
   },
   "source": [
    "### Etapa 4: Visualização da Taxa de Conversão por Estado\n",
    "\n",
    "Esta seção é dedicada à **visualização da taxa de conversão dos 10 principais estados**.\n",
    "\n",
    "Procedimentos realizados:\n",
    "\n",
    "- Conversão dos dados de conversão por estado para um **DataFrame Pandas**, visando facilitar a criação da visualização.\n",
    "- Criação de um **gráfico de barras** que representa a taxa de conversão em **porcentagem**.\n",
    "- O eixo Y é configurado para variar de **80% a 100%**, proporcionando **maior foco nos detalhes** da variação.\n",
    "- Inclusão de **rótulos de dados** diretamente nas barras para aumentar a clareza e facilitar a interpretação dos resultados.\n"
   ]
  },
  {
   "cell_type": "code",
   "execution_count": 0,
   "metadata": {
    "application/vnd.databricks.v1+cell": {
     "cellMetadata": {
      "byteLimit": 2048000,
      "rowLimit": 10000
     },
     "inputWidgets": {},
     "nuid": "78c82b1d-5043-4e04-8a86-07eb5a7795a8",
     "showTitle": false,
     "tableResultSettingsMap": {},
     "title": ""
    }
   },
   "outputs": [
    {
     "output_type": "display_data",
     "data": {
      "image/png": "[encoded data removed]",
      "text/plain": [
       "<Figure size 1200x700 with 1 Axes>"
      ]
     },
     "metadata": {},
     "output_type": "display_data"
    }
   ],
   "source": [
    "# Coletar os dados para visualização\n",
    "conversion_by_state_pd = conversion_by_state.limit(10).toPandas()\n",
    "\n",
    "# Gráfico 1: Taxa de Conversão de Vendas\n",
    "plt.figure(figsize=(12, 7))\n",
    "ax1 = sns.barplot(x=\"customer_state\", y=\"conversion_rate\", data=conversion_by_state_pd, palette=\"viridis\")\n",
    "plt.title(\"Taxa de Conversão de Vendas dos 10 Principais Estados por Pedidos (%)\")\n",
    "plt.xlabel(\"Estado do Cliente\")\n",
    "plt.ylabel(\"Taxa de Conversão (%)\")\n",
    "plt.ylim(80, 100)\n",
    "plt.grid(axis='y', linestyle='--', alpha=0.7)\n",
    "\n",
    "# Adicionar rótulos nas barras\n",
    "for i, row in conversion_by_state_pd.iterrows():\n",
    "    ax1.text(i, row[\"conversion_rate\"] + 0.3, f'{row[\"conversion_rate\"]:.2f}%', ha='center', va='bottom', fontsize=10)\n",
    "\n",
    "plt.show()\n"
   ]
  },
  {
   "cell_type": "markdown",
   "metadata": {
    "application/vnd.databricks.v1+cell": {
     "cellMetadata": {},
     "inputWidgets": {},
     "nuid": "fa743fa1-de95-4c55-bce1-5d84f989de9a",
     "showTitle": false,
     "tableResultSettingsMap": {},
     "title": ""
    }
   },
   "source": [
    "### Etapa 5: Visualização do Total de Pedidos por Estado\n",
    "\n",
    "Complementando a análise anterior, esta etapa visualiza o **total de pedidos** para os **10 estados com maior volume**.\n",
    "\n",
    "Procedimentos realizados:\n",
    "\n",
    "- Utilização do mesmo **DataFrame Pandas (`conversion_by_state_pd`)** utilizado na etapa anterior.\n",
    "- Geração de um **gráfico de barras** que exibe o número total de pedidos por estado.\n",
    "- A visualização permite uma melhor **compreensão do volume de pedidos**, oferecendo **contexto adicional** para a interpretação das taxas de conversão.\n",
    "- Inclusão de **rótulos de dados** com os valores exatos de pedidos para **facilitar a leitura e a análise comparativa**.\n"
   ]
  },
  {
   "cell_type": "code",
   "execution_count": 0,
   "metadata": {
    "application/vnd.databricks.v1+cell": {
     "cellMetadata": {
      "byteLimit": 2048000,
      "rowLimit": 10000
     },
     "inputWidgets": {},
     "nuid": "446c0c45-c20f-4455-a33a-6dc7b527f46e",
     "showTitle": false,
     "tableResultSettingsMap": {},
     "title": ""
    }
   },
   "outputs": [
    {
     "output_type": "display_data",
     "data": {
      "image/png": "[encoded data removed]",
      "text/plain": [
       "<Figure size 1200x700 with 1 Axes>"
      ]
     },
     "metadata": {},
     "output_type": "display_data"
    }
   ],
   "source": [
    "# Gráfico 2: Total de Pedidos\n",
    "plt.figure(figsize=(12, 7))\n",
    "ax2 = sns.barplot(x=\"customer_state\", y=\"total_orders\", data=conversion_by_state_pd, palette=\"mako\")\n",
    "plt.title(\"Total de Pedidos para os 10 Estados com Maior Volume\")\n",
    "plt.xlabel(\"Estado do Cliente\")\n",
    "plt.ylabel(\"Total de Pedidos\")\n",
    "plt.grid(axis='y', linestyle='--', alpha=0.7)\n",
    "\n",
    "# Adicionar rótulos nas barras\n",
    "for i, row in conversion_by_state_pd.iterrows():\n",
    "    ax2.text(i, row[\"total_orders\"] + max(conversion_by_state_pd[\"total_orders\"]) * 0.01, \n",
    "             f'{int(row[\"total_orders\"])}', ha='center', va='bottom', fontsize=10)\n",
    "\n",
    "plt.show()"
   ]
  },
  {
   "cell_type": "markdown",
   "metadata": {
    "application/vnd.databricks.v1+cell": {
     "cellMetadata": {},
     "inputWidgets": {},
     "nuid": "c8bf7d82-1d30-4033-86d2-0d82586429c7",
     "showTitle": false,
     "tableResultSettingsMap": {},
     "title": ""
    }
   },
   "source": [
    "### Etapa 6: Cálculo da Taxa de Conversão por Tipo de Pagamento\n",
    "\n",
    "Nesta etapa, o foco está na **análise da taxa de conversão por tipo de pagamento**.\n",
    "\n",
    "Procedimentos realizados:\n",
    "\n",
    "- Contagem do **total de pedidos** e do **total de pedidos entregues** para cada tipo de pagamento.\n",
    "- União das duas contagens em um único DataFrame.\n",
    "- Cálculo da **taxa de conversão**, com **arredondamento para duas casas decimais**.\n",
    "- Ordenação dos resultados de forma **decrescente** com base no total de pedidos, facilitando a identificação dos métodos de pagamento mais utilizados.\n"
   ]
  },
  {
   "cell_type": "code",
   "execution_count": 0,
   "metadata": {
    "application/vnd.databricks.v1+cell": {
     "cellMetadata": {
      "byteLimit": 2048000,
      "rowLimit": 10000
     },
     "inputWidgets": {},
     "nuid": "6b553fbb-bbb2-47e7-91bd-7e918f62d3cb",
     "showTitle": false,
     "tableResultSettingsMap": {},
     "title": ""
    }
   },
   "outputs": [
    {
     "output_type": "stream",
     "name": "stdout",
     "output_type": "stream",
     "text": [
      "Taxa de conversão por tipo de pagamento calculada com sucesso.\n"
     ]
    },
    {
     "output_type": "display_data",
     "data": {
      "text/html": [
       "<style scoped>\n",
       "  .table-result-container {\n",
       "    max-height: 300px;\n",
       "    overflow: auto;\n",
       "  }\n",
       "  table, th, td {\n",
       "    border: 1px solid black;\n",
       "    border-collapse: collapse;\n",
       "  }\n",
       "  th, td {\n",
       "    padding: 5px;\n",
       "  }\n",
       "  th {\n",
       "    text-align: left;\n",
       "  }\n",
       "</style><div class='table-result-container'><table class='table-result'><thead style='background-color: white'><tr><th>payment_type</th><th>total_orders</th><th>delivered_orders</th><th>conversion_rate</th></tr></thead><tbody><tr><td>credit_card</td><td>76505</td><td>74304</td><td>97.12</td></tr><tr><td>boleto</td><td>19784</td><td>19191</td><td>97.0</td></tr><tr><td>voucher</td><td>3866</td><td>3679</td><td>95.16</td></tr><tr><td>debit_card</td><td>1528</td><td>1485</td><td>97.19</td></tr><tr><td>not_defined</td><td>3</td><td>0</td><td>0.0</td></tr></tbody></table></div>"
      ]
     },
     "metadata": {
      "application/vnd.databricks.v1+output": {
       "addedWidgets": {},
       "aggData": [],
       "aggError": "",
       "aggOverflow": false,
       "aggSchema": [],
       "aggSeriesLimitReached": false,
       "aggType": "",
       "arguments": {},
       "columnCustomDisplayInfos": {},
       "data": [
        [
         "credit_card",
         76505,
         74304,
         97.12
        ],
        [
         "boleto",
         19784,
         19191,
         97.0
        ],
        [
         "voucher",
         3866,
         3679,
         95.16
        ],
        [
         "debit_card",
         1528,
         1485,
         97.19
        ],
        [
         "not_defined",
         3,
         0,
         0.0
        ]
       ],
       "datasetInfos": [],
       "dbfsResultPath": null,
       "isJsonSchema": true,
       "metadata": {},
       "overflow": false,
       "plotOptions": {
        "customPlotOptions": {},
        "displayType": "table",
        "pivotAggregation": null,
        "pivotColumns": null,
        "xColumns": null,
        "yColumns": null
       },
       "removedWidgets": [],
       "schema": [
        {
         "metadata": "{}",
         "name": "payment_type",
         "type": "\"string\""
        },
        {
         "metadata": "{}",
         "name": "total_orders",
         "type": "\"long\""
        },
        {
         "metadata": "{}",
         "name": "delivered_orders",
         "type": "\"long\""
        },
        {
         "metadata": "{}",
         "name": "conversion_rate",
         "type": "\"double\""
        }
       ],
       "type": "table"
      }
     },
     "output_type": "display_data"
    }
   ],
   "source": [
    "# Contar o total de pedidos por tipo de pagamento\n",
    "total_orders_by_payment_type = df_merged.groupBy(\"payment_type\").agg(\n",
    "    countDistinct(\"order_id\").alias(\"total_orders\")\n",
    ")\n",
    "\n",
    "# Contar o total de pedidos entregues por tipo de pagamento\n",
    "delivered_orders_by_payment_type = df_delivered.groupBy(\"payment_type\").agg(\n",
    "    countDistinct(\"order_id\").alias(\"delivered_orders\")\n",
    ")\n",
    "\n",
    "# Juntar os DataFrames e calcular a taxa de conversão\n",
    "conversion_by_payment_type = total_orders_by_payment_type.join(delivered_orders_by_payment_type, on=\"payment_type\", how=\"left\") \\\n",
    "    .fillna(0, subset=[\"delivered_orders\"]) \\\n",
    "    .withColumn(\"conversion_rate\", round((col(\"delivered_orders\") / col(\"total_orders\")) * 100, 2)) \\\n",
    "    .orderBy(col(\"total_orders\").desc())\n",
    "\n",
    "print(\"Taxa de conversão por tipo de pagamento calculada com sucesso.\")\n",
    "display(conversion_by_payment_type)"
   ]
  },
  {
   "cell_type": "markdown",
   "metadata": {
    "application/vnd.databricks.v1+cell": {
     "cellMetadata": {},
     "inputWidgets": {},
     "nuid": "7f19b7be-dca5-4aab-b651-499e9a809323",
     "showTitle": false,
     "tableResultSettingsMap": {},
     "title": ""
    }
   },
   "source": [
    "### Etapa 7: Re-união e Re-filtragem dos DataFrames (Opcional/Verificação)\n",
    "\n",
    "Esta etapa repete as operações realizadas na **Etapa 2**, unindo novamente os DataFrames de **clientes**, **pedidos** e **pagamentos**.\n",
    "\n",
    "Ações executadas:\n",
    "\n",
    "- Conversão das colunas de **data** para o formato `timestamp`.\n",
    "- Filtro para manter apenas os pedidos com status **\"delivered\"**.\n",
    "\n",
    "**Observação:** Essa repetição pode servir como uma **verificação ou reinicialização** do ambiente, especialmente em casos de reexecução parcial do notebook. Contudo, em um fluxo de trabalho sequencial bem definido, essa etapa pode ser considerada **redundante**, caso os DataFrames já estejam no estado processado anteriormente.\n"
   ]
  },
  {
   "cell_type": "code",
   "execution_count": 0,
   "metadata": {
    "application/vnd.databricks.v1+cell": {
     "cellMetadata": {
      "byteLimit": 2048000,
      "rowLimit": 10000
     },
     "inputWidgets": {},
     "nuid": "cb15f291-8ee0-4804-99c9-0af84e53466b",
     "showTitle": false,
     "tableResultSettingsMap": {},
     "title": ""
    }
   },
   "outputs": [
    {
     "output_type": "stream",
     "name": "stdout",
     "output_type": "stream",
     "text": [
      "DataFrames unidos e filtrados para pedidos entregues com sucesso.\n"
     ]
    },
    {
     "output_type": "display_data",
     "data": {
      "text/html": [
       "<style scoped>\n",
       "  .table-result-container {\n",
       "    max-height: 300px;\n",
       "    overflow: auto;\n",
       "  }\n",
       "  table, th, td {\n",
       "    border: 1px solid black;\n",
       "    border-collapse: collapse;\n",
       "  }\n",
       "  th, td {\n",
       "    padding: 5px;\n",
       "  }\n",
       "  th {\n",
       "    text-align: left;\n",
       "  }\n",
       "</style><div class='table-result-container'><table class='table-result'><thead style='background-color: white'><tr><th>order_id</th><th>customer_id</th><th>order_status</th><th>order_purchase_timestamp</th><th>order_approved_at</th><th>order_delivered_carrier_date</th><th>order_delivered_customer_date</th><th>order_estimated_delivery_date</th><th>customer_unique_id</th><th>customer_zip_code_prefix</th><th>customer_city</th><th>customer_state</th><th>payment_sequential</th><th>payment_type</th><th>payment_installments</th><th>payment_value</th></tr></thead><tbody><tr><td>00e7ee1b050b8499577073aeb2a297a1</td><td>06b8999e2fba1a1fbc88172c00ba8bc7</td><td>delivered</td><td>2017-05-16T15:05:35.000Z</td><td>2017-05-16T15:22:12.000Z</td><td>2017-05-23T10:47:57.000Z</td><td>2017-05-25T10:35:35.000Z</td><td>2017-06-05T00:00:00.000Z</td><td>861eff4711a542e4b93843c6dd7febb0</td><td>14409</td><td>franca</td><td>SP</td><td>1</td><td>credit_card</td><td>2</td><td>146.87</td></tr><tr><td>29150127e6685892b6eab3eec79f59c7</td><td>18955e83d337fd6b2def6b18a428ac77</td><td>delivered</td><td>2018-01-12T20:48:24.000Z</td><td>2018-01-12T20:58:32.000Z</td><td>2018-01-15T17:14:59.000Z</td><td>2018-01-29T12:41:19.000Z</td><td>2018-02-06T00:00:00.000Z</td><td>290c77bc529b7ac935b93aa66c333dc3</td><td>9790</td><td>sao bernardo do campo</td><td>SP</td><td>1</td><td>credit_card</td><td>8</td><td>335.48</td></tr><tr><td>b2059ed67ce144a36e2aa97d2c9e9ad2</td><td>4e7b3e00288586ebd08712fdd0374a03</td><td>delivered</td><td>2018-05-19T16:07:45.000Z</td><td>2018-05-20T16:19:10.000Z</td><td>2018-06-11T14:31:00.000Z</td><td>2018-06-14T17:58:51.000Z</td><td>2018-06-13T00:00:00.000Z</td><td>060e732b5b29e8181a18229c7b0b2b5e</td><td>1151</td><td>sao paulo</td><td>SP</td><td>1</td><td>credit_card</td><td>7</td><td>157.73</td></tr><tr><td>951670f92359f4fe4a63112aa7306eba</td><td>b2b6027bc5c5109e529d4dc6358b12c3</td><td>delivered</td><td>2018-03-13T16:06:38.000Z</td><td>2018-03-13T17:29:19.000Z</td><td>2018-03-27T23:22:42.000Z</td><td>2018-03-28T16:04:25.000Z</td><td>2018-04-10T00:00:00.000Z</td><td>259dac757896d24d7702b9acbbff3f3c</td><td>8775</td><td>mogi das cruzes</td><td>SP</td><td>1</td><td>credit_card</td><td>1</td><td>173.3</td></tr><tr><td>6b7d50bd145f6fc7f33cebabd7e49d0f</td><td>4f2d8ab171c80ec8364f7c12e35b23ad</td><td>delivered</td><td>2018-07-29T09:51:30.000Z</td><td>2018-07-29T10:10:09.000Z</td><td>2018-07-30T15:16:00.000Z</td><td>2018-08-09T20:55:48.000Z</td><td>2018-08-15T00:00:00.000Z</td><td>345ecd01c38d18a9036ed96c73b8d066</td><td>13056</td><td>campinas</td><td>SP</td><td>1</td><td>credit_card</td><td>8</td><td>252.25</td></tr></tbody></table></div>"
      ]
     },
     "metadata": {
      "application/vnd.databricks.v1+output": {
       "addedWidgets": {},
       "aggData": [],
       "aggError": "",
       "aggOverflow": false,
       "aggSchema": [],
       "aggSeriesLimitReached": false,
       "aggType": "",
       "arguments": {},
       "columnCustomDisplayInfos": {},
       "data": [
        [
         "00e7ee1b050b8499577073aeb2a297a1",
         "06b8999e2fba1a1fbc88172c00ba8bc7",
         "delivered",
         "2017-05-16T15:05:35.000Z",
         "2017-05-16T15:22:12.000Z",
         "2017-05-23T10:47:57.000Z",
         "2017-05-25T10:35:35.000Z",
         "2017-06-05T00:00:00.000Z",
         "861eff4711a542e4b93843c6dd7febb0",
         14409,
         "franca",
         "SP",
         1,
         "credit_card",
         2,
         146.87
        ],
        [
         "29150127e6685892b6eab3eec79f59c7",
         "18955e83d337fd6b2def6b18a428ac77",
         "delivered",
         "2018-01-12T20:48:24.000Z",
         "2018-01-12T20:58:32.000Z",
         "2018-01-15T17:14:59.000Z",
         "2018-01-29T12:41:19.000Z",
         "2018-02-06T00:00:00.000Z",
         "290c77bc529b7ac935b93aa66c333dc3",
         9790,
         "sao bernardo do campo",
         "SP",
         1,
         "credit_card",
         8,
         335.48
        ],
        [
         "b2059ed67ce144a36e2aa97d2c9e9ad2",
         "4e7b3e00288586ebd08712fdd0374a03",
         "delivered",
         "2018-05-19T16:07:45.000Z",
         "2018-05-20T16:19:10.000Z",
         "2018-06-11T14:31:00.000Z",
         "2018-06-14T17:58:51.000Z",
         "2018-06-13T00:00:00.000Z",
         "060e732b5b29e8181a18229c7b0b2b5e",
         1151,
         "sao paulo",
         "SP",
         1,
         "credit_card",
         7,
         157.73
        ],
        [
         "951670f92359f4fe4a63112aa7306eba",
         "b2b6027bc5c5109e529d4dc6358b12c3",
         "delivered",
         "2018-03-13T16:06:38.000Z",
         "2018-03-13T17:29:19.000Z",
         "2018-03-27T23:22:42.000Z",
         "2018-03-28T16:04:25.000Z",
         "2018-04-10T00:00:00.000Z",
         "259dac757896d24d7702b9acbbff3f3c",
         8775,
         "mogi das cruzes",
         "SP",
         1,
         "credit_card",
         1,
         173.3
        ],
        [
         "6b7d50bd145f6fc7f33cebabd7e49d0f",
         "4f2d8ab171c80ec8364f7c12e35b23ad",
         "delivered",
         "2018-07-29T09:51:30.000Z",
         "2018-07-29T10:10:09.000Z",
         "2018-07-30T15:16:00.000Z",
         "2018-08-09T20:55:48.000Z",
         "2018-08-15T00:00:00.000Z",
         "345ecd01c38d18a9036ed96c73b8d066",
         13056,
         "campinas",
         "SP",
         1,
         "credit_card",
         8,
         252.25
        ]
       ],
       "datasetInfos": [],
       "dbfsResultPath": null,
       "isJsonSchema": true,
       "metadata": {},
       "overflow": false,
       "plotOptions": {
        "customPlotOptions": {},
        "displayType": "table",
        "pivotAggregation": null,
        "pivotColumns": null,
        "xColumns": null,
        "yColumns": null
       },
       "removedWidgets": [],
       "schema": [
        {
         "metadata": "{}",
         "name": "order_id",
         "type": "\"string\""
        },
        {
         "metadata": "{}",
         "name": "customer_id",
         "type": "\"string\""
        },
        {
         "metadata": "{}",
         "name": "order_status",
         "type": "\"string\""
        },
        {
         "metadata": "{}",
         "name": "order_purchase_timestamp",
         "type": "\"timestamp\""
        },
        {
         "metadata": "{}",
         "name": "order_approved_at",
         "type": "\"timestamp\""
        },
        {
         "metadata": "{}",
         "name": "order_delivered_carrier_date",
         "type": "\"timestamp\""
        },
        {
         "metadata": "{}",
         "name": "order_delivered_customer_date",
         "type": "\"timestamp\""
        },
        {
         "metadata": "{}",
         "name": "order_estimated_delivery_date",
         "type": "\"timestamp\""
        },
        {
         "metadata": "{}",
         "name": "customer_unique_id",
         "type": "\"string\""
        },
        {
         "metadata": "{}",
         "name": "customer_zip_code_prefix",
         "type": "\"long\""
        },
        {
         "metadata": "{}",
         "name": "customer_city",
         "type": "\"string\""
        },
        {
         "metadata": "{}",
         "name": "customer_state",
         "type": "\"string\""
        },
        {
         "metadata": "{}",
         "name": "payment_sequential",
         "type": "\"long\""
        },
        {
         "metadata": "{}",
         "name": "payment_type",
         "type": "\"string\""
        },
        {
         "metadata": "{}",
         "name": "payment_installments",
         "type": "\"long\""
        },
        {
         "metadata": "{}",
         "name": "payment_value",
         "type": "\"double\""
        }
       ],
       "type": "table"
      }
     },
     "output_type": "display_data"
    }
   ],
   "source": [
    "# Unir customers_df e orders_df\n",
    "df_merged = orders_df.join(customers_df, on=\"customer_id\", how=\"inner\")\n",
    "\n",
    "# Unir df_merged com payments_df\n",
    "df_merged = df_merged.join(payments_df, on=\"order_id\", how=\"inner\")\n",
    "\n",
    "# Filtrar para pedidos que foram realmente entregues para a análise de conversão\n",
    "# Convertendo order_purchase_timestamp para timestamp para garantir operações de data\n",
    "df_merged = df_merged.withColumn(\"order_purchase_timestamp\", to_timestamp(col(\"order_purchase_timestamp\")))\n",
    "df_merged = df_merged.withColumn(\"order_delivered_customer_date\", to_timestamp(col(\"order_delivered_customer_date\")))\n",
    "\n",
    "df_delivered = df_merged.filter(col(\"order_status\") == \"delivered\")\n",
    "\n",
    "print(\"DataFrames unidos e filtrados para pedidos entregues com sucesso.\")\n",
    "display(df_delivered.limit(5))"
   ]
  },
  {
   "cell_type": "markdown",
   "metadata": {
    "application/vnd.databricks.v1+cell": {
     "cellMetadata": {},
     "inputWidgets": {},
     "nuid": "23f4163c-a646-443d-8637-f6de4f6ba929",
     "showTitle": false,
     "tableResultSettingsMap": {},
     "title": ""
    }
   },
   "source": [
    "### Etapa 8: Cálculo da Taxa de Conversão por Tipo de Pagamento (Excluindo 'not_defined')\n",
    "\n",
    "Nesta etapa, é realizada uma **refinação da análise da taxa de conversão** por tipo de pagamento, com foco apenas nos métodos de pagamento válidos.\n",
    "\n",
    "Ações executadas:\n",
    "\n",
    "- **Filtragem** dos DataFrames `df_merged` e `df_delivered` para **excluir a categoria** onde `payment_type` é igual a `\"not_defined\"`.\n",
    "- Contagem do **total de pedidos** e do **total de pedidos entregues** por tipo de pagamento.\n",
    "- Cálculo da **taxa de conversão** para cada tipo, fornecendo uma visão mais limpa e precisa dos **métodos de pagamento relevantes**.\n",
    "- Exibição dos resultados com os dados limpos, **reforçando a qualidade analítica da métrica**.\n",
    "\n",
    "Essa abordagem evita distorções causadas por registros incompletos ou inválidos.\n"
   ]
  },
  {
   "cell_type": "code",
   "execution_count": 0,
   "metadata": {
    "application/vnd.databricks.v1+cell": {
     "cellMetadata": {
      "byteLimit": 2048000,
      "rowLimit": 10000
     },
     "inputWidgets": {},
     "nuid": "5b57316c-8fdd-4fea-83cd-bb73d8bdcf03",
     "showTitle": false,
     "tableResultSettingsMap": {},
     "title": ""
    }
   },
   "outputs": [
    {
     "output_type": "stream",
     "name": "stdout",
     "output_type": "stream",
     "text": [
      "Taxa de conversão por tipo de pagamento calculada com sucesso, excluindo 'not_defined'.\n"
     ]
    },
    {
     "output_type": "display_data",
     "data": {
      "text/html": [
       "<style scoped>\n",
       "  .table-result-container {\n",
       "    max-height: 300px;\n",
       "    overflow: auto;\n",
       "  }\n",
       "  table, th, td {\n",
       "    border: 1px solid black;\n",
       "    border-collapse: collapse;\n",
       "  }\n",
       "  th, td {\n",
       "    padding: 5px;\n",
       "  }\n",
       "  th {\n",
       "    text-align: left;\n",
       "  }\n",
       "</style><div class='table-result-container'><table class='table-result'><thead style='background-color: white'><tr><th>payment_type</th><th>total_orders</th><th>delivered_orders</th><th>conversion_rate</th></tr></thead><tbody><tr><td>credit_card</td><td>76505</td><td>74304</td><td>97.12</td></tr><tr><td>boleto</td><td>19784</td><td>19191</td><td>97.0</td></tr><tr><td>voucher</td><td>3866</td><td>3679</td><td>95.16</td></tr><tr><td>debit_card</td><td>1528</td><td>1485</td><td>97.19</td></tr></tbody></table></div>"
      ]
     },
     "metadata": {
      "application/vnd.databricks.v1+output": {
       "addedWidgets": {},
       "aggData": [],
       "aggError": "",
       "aggOverflow": false,
       "aggSchema": [],
       "aggSeriesLimitReached": false,
       "aggType": "",
       "arguments": {},
       "columnCustomDisplayInfos": {},
       "data": [
        [
         "credit_card",
         76505,
         74304,
         97.12
        ],
        [
         "boleto",
         19784,
         19191,
         97.0
        ],
        [
         "voucher",
         3866,
         3679,
         95.16
        ],
        [
         "debit_card",
         1528,
         1485,
         97.19
        ]
       ],
       "datasetInfos": [],
       "dbfsResultPath": null,
       "isJsonSchema": true,
       "metadata": {},
       "overflow": false,
       "plotOptions": {
        "customPlotOptions": {},
        "displayType": "table",
        "pivotAggregation": null,
        "pivotColumns": null,
        "xColumns": null,
        "yColumns": null
       },
       "removedWidgets": [],
       "schema": [
        {
         "metadata": "{}",
         "name": "payment_type",
         "type": "\"string\""
        },
        {
         "metadata": "{}",
         "name": "total_orders",
         "type": "\"long\""
        },
        {
         "metadata": "{}",
         "name": "delivered_orders",
         "type": "\"long\""
        },
        {
         "metadata": "{}",
         "name": "conversion_rate",
         "type": "\"double\""
        }
       ],
       "type": "table"
      }
     },
     "output_type": "display_data"
    }
   ],
   "source": [
    "# Filtrar df_merged para remover 'not_defined' da coluna payment_type\n",
    "df_merged_filtered_payment = df_merged.filter(col(\"payment_type\") != \"not_defined\")\n",
    "\n",
    "# Filtrar df_delivered para remover 'not_defined' da coluna payment_type\n",
    "df_delivered_filtered_payment = df_delivered.filter(col(\"payment_type\") != \"not_defined\")\n",
    "\n",
    "# Contar o total de pedidos por tipo de pagamento (após filtragem)\n",
    "total_orders_by_payment_type = df_merged_filtered_payment.groupBy(\"payment_type\").agg(\n",
    "    countDistinct(\"order_id\").alias(\"total_orders\")\n",
    ")\n",
    "\n",
    "# Contar o total de pedidos entregues por tipo de pagamento (após filtragem)\n",
    "delivered_orders_by_payment_type = df_delivered_filtered_payment.groupBy(\"payment_type\").agg(\n",
    "    countDistinct(\"order_id\").alias(\"delivered_orders\")\n",
    ")\n",
    "\n",
    "# Juntar os DataFrames e calcular a taxa de conversão\n",
    "conversion_by_payment_type = total_orders_by_payment_type.join(delivered_orders_by_payment_type, on=\"payment_type\", how=\"left\") \\\n",
    "    .fillna(0, subset=[\"delivered_orders\"]) \\\n",
    "    .withColumn(\"conversion_rate\", round((col(\"delivered_orders\") / col(\"total_orders\")) * 100, 2)) \\\n",
    "    .orderBy(col(\"total_orders\").desc())\n",
    "\n",
    "print(\"Taxa de conversão por tipo de pagamento calculada com sucesso, excluindo 'not_defined'.\")\n",
    "display(conversion_by_payment_type)"
   ]
  },
  {
   "cell_type": "markdown",
   "metadata": {
    "application/vnd.databricks.v1+cell": {
     "cellMetadata": {},
     "inputWidgets": {},
     "nuid": "a4111e9f-0b08-4e8e-92c8-ef163692eac2",
     "showTitle": false,
     "tableResultSettingsMap": {},
     "title": ""
    }
   },
   "source": [
    "### Etapa 9: Visualização da Taxa de Conversão por Tipo de Pagamento Válido\n",
    "\n",
    "Esta etapa é dedicada à **visualização gráfica** da taxa de conversão para os **tipos de pagamento válidos**, ou seja, com a categoria `\"not_defined\"` previamente excluída.\n",
    "\n",
    "Ações realizadas:\n",
    "\n",
    "- Conversão do DataFrame de conversão para **formato Pandas**, permitindo o uso de bibliotecas de visualização.\n",
    "- Criação de um **gráfico de barras** que mostra a **taxa de conversão (%)** por tipo de pagamento.\n",
    "- O **eixo Y é ajustado** para a faixa de **80% a 100%**, proporcionando um foco detalhado nas variações de alta conversão.\n",
    "- Inclusão de **rótulos de dados diretamente nas barras**, garantindo maior clareza na leitura dos valores.\n",
    "\n",
    "Essa visualização facilita a identificação dos métodos de pagamento com melhor desempenho em termos de conversão.\n"
   ]
  },
  {
   "cell_type": "code",
   "execution_count": 0,
   "metadata": {
    "application/vnd.databricks.v1+cell": {
     "cellMetadata": {
      "byteLimit": 2048000,
      "rowLimit": 10000
     },
     "inputWidgets": {},
     "nuid": "603cef93-8a72-4df4-b06e-22e1f0515f45",
     "showTitle": false,
     "tableResultSettingsMap": {},
     "title": ""
    }
   },
   "outputs": [
    {
     "output_type": "display_data",
     "data": {
      "image/png": "[encoded data removed]",
      "text/plain": [
       "<Figure size 1000x600 with 1 Axes>"
      ]
     },
     "metadata": {},
     "output_type": "display_data"
    }
   ],
   "source": [
    "conversion_by_payment_type_pd = conversion_by_payment_type.toPandas()\n",
    "\n",
    "plt.figure(figsize=(10, 6))\n",
    "ax = sns.barplot(x=\"payment_type\", y=\"conversion_rate\", data=conversion_by_payment_type_pd, palette=\"cubehelix\")\n",
    "plt.title(\"Taxa de Conversão de Vendas por Tipo de Pagamento Válido (%)\")\n",
    "plt.xlabel(\"Tipo de Pagamento\")\n",
    "plt.ylabel(\"Taxa de Conversão (%)\")\n",
    "plt.ylim(80, 100)\n",
    "plt.grid(axis='y', linestyle='--', alpha=0.7)\n",
    "\n",
    "# Adiciona os valores acima das barras\n",
    "for p in ax.patches:\n",
    "    height = p.get_height()\n",
    "    ax.text(p.get_x() + p.get_width()/2, height + 0.3, f'{height:.1f}%', ha=\"center\", fontsize=10)\n",
    "\n",
    "plt.show()\n"
   ]
  },
  {
   "cell_type": "markdown",
   "metadata": {
    "application/vnd.databricks.v1+cell": {
     "cellMetadata": {},
     "inputWidgets": {},
     "nuid": "234905dc-2284-45e6-950c-87e90d127852",
     "showTitle": false,
     "tableResultSettingsMap": {},
     "title": ""
    }
   },
   "source": [
    "### Etapa 10: Visualização do Total de Pedidos por Tipo de Pagamento Válido\n",
    "\n",
    "Por fim, esta etapa tem como objetivo **visualizar o volume total de pedidos** para cada **tipo de pagamento válido**, com a categoria `\"not_defined\"` já excluída.\n",
    "\n",
    "Ações realizadas:\n",
    "\n",
    "- Geração de um **gráfico de barras** que mostra a **quantidade total de pedidos** por tipo de pagamento.\n",
    "- Essa visualização revela a **frequência de uso** de cada método de pagamento pelos clientes.\n",
    "- Os **rótulos de dados são incluídos nas barras**, indicando o número exato de pedidos por categoria.\n",
    "\n",
    "Essa análise complementa a visualização da taxa de conversão, permitindo entender **não apenas o desempenho**, mas também a **popularidade de cada tipo de pagamento**.\n"
   ]
  },
  {
   "cell_type": "code",
   "execution_count": 0,
   "metadata": {
    "application/vnd.databricks.v1+cell": {
     "cellMetadata": {
      "byteLimit": 2048000,
      "rowLimit": 10000
     },
     "inputWidgets": {},
     "nuid": "73304bf6-5f5c-4ff0-9acb-27a0657c6f4f",
     "showTitle": false,
     "tableResultSettingsMap": {},
     "title": ""
    }
   },
   "outputs": [
    {
     "output_type": "display_data",
     "data": {
      "image/png": "[encoded data removed]",
      "text/plain": [
       "<Figure size 1000x600 with 1 Axes>"
      ]
     },
     "metadata": {},
     "output_type": "display_data"
    }
   ],
   "source": [
    "plt.figure(figsize=(10, 6))\n",
    "ax = sns.barplot(x=\"payment_type\", y=\"total_orders\", data=conversion_by_payment_type_pd, palette=\"rocket\")\n",
    "plt.title(\"Total de Pedidos por Tipo de Pagamento Válido\")\n",
    "plt.xlabel(\"Tipo de Pagamento\")\n",
    "plt.ylabel(\"Total de Pedidos\")\n",
    "plt.grid(axis='y', linestyle='--', alpha=0.7)\n",
    "\n",
    "# Adiciona os valores acima das barras\n",
    "for p in ax.patches:\n",
    "    height = p.get_height()\n",
    "    ax.text(p.get_x() + p.get_width()/2, height + 50, f'{int(height)}', ha=\"center\", fontsize=10)\n",
    "\n",
    "plt.show()\n"
   ]
  },
  {
   "cell_type": "markdown",
   "metadata": {
    "application/vnd.databricks.v1+cell": {
     "cellMetadata": {},
     "inputWidgets": {},
     "nuid": "80268f5b-f58e-47e5-8e8c-76b8e126cff4",
     "showTitle": false,
     "tableResultSettingsMap": {},
     "title": ""
    }
   },
   "source": [
    "### Conclusão dos Resultados da Análise de Conversão\n",
    "\n",
    "---\n",
    "\n",
    "#### Conversão por Estado do Cliente\n",
    "\n",
    "A análise da taxa de conversão por estado:\n",
    "\n",
    "- **Altas Taxas de Conversão Consistentes**:  \n",
    "  De maneira geral, os 10 principais estados em volume de pedidos apresentam taxas de conversão **acima de 96%**, sugerindo uma **alta eficácia** na entrega e conclusão de pedidos para a maioria dos clientes no Brasil.\n",
    "\n",
    "- **Destaque para São Paulo (SP)**:  \n",
    "  São Paulo se destaca com o **maior volume de pedidos**, totalizando **41.745**, representando uma base de clientes significativamente maior.  \n",
    "  Sua taxa de conversão de **97,02%** é robusta, indicando que, mesmo com grande volume, a operação de entrega permanece **eficiente**.\n",
    "\n",
    "- **Estados com Ótima Performance de Conversão**:  \n",
    "  **Espírito Santo (ES)** e **Acre (AC)** demonstraram as **mais altas taxas de conversão**, com **98,13%** e **98,77%**, respectivamente, ainda que com menor volume.  \n",
    "  Isso pode indicar **logística mais otimizada** ou características demográficas favoráveis.\n",
    "\n",
    "- **Variações Marginais**:  \n",
    "  As taxas de conversão variam pouco entre os estados analisados (de **96,09%** a **98,13%**), sugerindo que a **qualidade do serviço de entrega** é relativamente homogênea nas regiões de maior demanda.\n",
    "\n",
    "---\n",
    "\n",
    "#### Conversão por Tipo de Pagamento\n",
    "\n",
    "A análise da taxa de conversão por tipo de pagamento:\n",
    "\n",
    "- **Domínio do Cartão de Crédito**:  \n",
    "  Método mais utilizado, com **76.505 pedidos** (mais de 70% do total válido).  \n",
    "  Apresenta uma taxa de conversão de **97,12%**, evidenciando sua **confiabilidade e preferência dos usuários**.\n",
    "\n",
    "- **Boleto Bancário como Segunda Opção Forte**:  \n",
    "  Segundo em volume, com **19.784 pedidos** e taxa de conversão de **97,0%**.  \n",
    "  Mesmo com compensação mais lenta, mostra-se **altamente eficaz**.\n",
    "\n",
    "- **Voucher com Menor Conversão**:  \n",
    "  Menor taxa entre os métodos válidos, com **95,16%** em **3.866 pedidos**.  \n",
    "  Pode indicar **desafios específicos**, como validade limitada ou restrições de uso.\n",
    "\n",
    "- **Cartão de Débito com Ótima Conversão**:  \n",
    "  Menor volume de pedidos (**1.528**), mas com **taxa de conversão de 97,19%**, a mais alta.  \n",
    "  Indica **transações e entregas altamente eficientes** para quem opta por essa modalidade.\n"
   ]
  }
 ],
 "metadata": {
  "application/vnd.databricks.v1+notebook": {
   "computePreferences": null,
   "dashboards": [],
   "environmentMetadata": {
    "base_environment": "",
    "environment_version": "2"
   },
   "inputWidgetPreferences": null,
   "language": "python",
   "notebookMetadata": {
    "pythonIndentUnit": 4
   },
   "notebookName": "Pablo Oliveira Desafio 5-a",
   "widgets": {}
  },
  "language_info": {
   "name": "python"
  }
 },
 "nbformat": 4,
 "nbformat_minor": 0
}